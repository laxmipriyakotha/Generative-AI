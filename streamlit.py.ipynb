{
 "cells": [
  {
   "cell_type": "code",
   "execution_count": 1,
   "id": "ee797ae3-7387-454b-88e7-a7104f350021",
   "metadata": {},
   "outputs": [],
   "source": [
    "import streamlit as st\n",
    "#from langchain_community.document_loaders import WebBaseLoader\n",
    "\n",
    "#from chains import Chain\n",
    "#from portfolio import Portfolio\n",
    "#from utils import clean_text\n",
    "\n",
    "\n",
    "def create_streamlit_app(llm, portfolio, clean_text):\n",
    "    st.title(\"📧 Cold Mail Generator\")\n",
    "    url_input = st.text_input(\"Enter a URL:\", value=\"https://careers.jpmorgan.com/us/en/students/programs/data-analytics-opportunities\")\n",
    "    submit_button = st.button(\"Submit\")\n",
    "\n",
    "    if submit_button:\n",
    "        st.code(\"hello hiring manager, i am fromjkkjjkj\",language='markdown')"
   ]
  },
  {
   "cell_type": "code",
   "execution_count": null,
   "id": "9c5b8226-d489-478c-8543-22cc82c9b2b6",
   "metadata": {},
   "outputs": [],
   "source": []
  }
 ],
 "metadata": {
  "kernelspec": {
   "display_name": "Python 3 (ipykernel)",
   "language": "python",
   "name": "python3"
  },
  "language_info": {
   "codemirror_mode": {
    "name": "ipython",
    "version": 3
   },
   "file_extension": ".py",
   "mimetype": "text/x-python",
   "name": "python",
   "nbconvert_exporter": "python",
   "pygments_lexer": "ipython3",
   "version": "3.12.6"
  }
 },
 "nbformat": 4,
 "nbformat_minor": 5
}
